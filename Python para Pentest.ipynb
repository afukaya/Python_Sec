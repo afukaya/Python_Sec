{
 "cells": [
  {
   "cell_type": "markdown",
   "metadata": {},
   "source": [
    "# Capítulo 1 - Introdução ao Python.\n",
    "\n",
    "Nada de novo aqui. Avance para o próximo capítulo."
   ]
  },
  {
   "cell_type": "markdown",
   "metadata": {},
   "source": [
    "# Capítulo 2 - Pentest em Redes.\n",
    "\n",
    "## Ciclo básico do pentest:\n",
    "Coleta de Informações -> Mapeamento de Vulnerabilidades -> Exploração de Falhas -> Escalonamento de Privilégios -> Manutenção do Acesso\n",
    "\n",
    "* Coleta de Informações: Levantamento de todas as informações sobre o alvo.\n",
    "    - Registros de DNS\n",
    "    - Mapeamento de Serviços\n",
    "    - Coleta de Email\n",
    "* Mapeamento de Vulnerabilidades: Verifica se os serviços encontrados possuem vulnerabilidades que podem ser exploradas para o ganho de acesso ao ambiente.\n",
    "    - Scans de Vulnerabilidades\n",
    "* Exploração de Falhas: Ataca as vulnerabilidades encontradas no ambiente para ganhar acesso ao sistema.\n",
    "    - Exploits\n",
    "    - Engenharia Social\n",
    "* Escalonamento de Privilégios: Uma vez dentro do ambiente, conseguir acesso privilegiado aos sistemas como root ou admin.\n",
    "* Manutenção do Acesso: Instalação de scripts para permitir o acesso a qualquer tempo aos sistemas comprometidos.\n",
    "\n",
    "> No livro está bem confusa a descrição dos passos, então eu mudei um pouco pra ficar mais claro.\n",
    "\n",
    "## 2.1 - Coleta de Informações:\n",
    "### 2.1.1 - Enumeração de servidores DNS"
   ]
  },
  {
   "cell_type": "code",
   "execution_count": 16,
   "metadata": {},
   "outputs": [
    {
     "name": "stdout",
     "output_type": "stream",
     "text": [
      "ns1.dominio.com: 65.254.244.180\n",
      "ns2.dominio.com: 65.254.244.180\n",
      "www.dominio.com: 65.254.244.176\n",
      "ftp.dominio.com: 65.254.238.128\n",
      "intranet.dominio.com: 65.254.244.180\n"
     ]
    }
   ],
   "source": [
    "import socket\n",
    "dominio = 'dominio.com'\n",
    "nomes = ['ns1','ns2','www','ftp','intranet']\n",
    "\n",
    "for nome in nomes:\n",
    "    dns = nome + '.' + dominio\n",
    "    try:\n",
    "        ip = socket.gethostbyname(dns)\n",
    "        print('{0}: {1}'.format(dns,ip))\n",
    "    except socket.gaierror:\n",
    "        pass"
   ]
  },
  {
   "cell_type": "markdown",
   "metadata": {},
   "source": [
    "O script acima utiliza o método `gethostbyname()` da biblioteca `socket` para determinar o endereço IP de uma lista de servidores através de seus nomes. Caso o nome seja encontrado, a função retorna uma string contendo o endereço IP retornado pelo DNS ou caso contrário, dispara uma exceção do tipo  `gaierror` - *Get Address Information* que retorna uma descrição do erro ocorrido."
   ]
  },
  {
   "cell_type": "markdown",
   "metadata": {},
   "source": [
    "*Obs*:\n",
    " - O método `gethostbyname()` não suporta IPv6, para verificar endereços de rede IPv6 é necessário usar a função `getaddrinfo()` da biblioteca `socket`.\n",
    " - Caso o host possua vários IPs associados ao seu nome, usar a função `gethostbyname()_ex` para conseguir a listagem de todos os endereços associados."
   ]
  },
  {
   "cell_type": "code",
   "execution_count": 18,
   "metadata": {},
   "outputs": [
    {
     "name": "stdout",
     "output_type": "stream",
     "text": [
      "ns1.google.com: 216.239.32.10\n",
      "ns2.google.com: 216.239.34.10\n",
      "www.google.com: 172.217.28.68\n",
      "ftp.google.com: Não encontrado\n",
      "intranet.google.com: Não encontrado\n",
      "xpto.google.com: Não encontrado\n"
     ]
    }
   ],
   "source": [
    "import socket\n",
    "dominio = 'google.com'\n",
    "\n",
    "with open('d:/Users/afukaya/OneDrive/Repos/Github/Books/Python para Pentest/Brute-Force.txt') as arquivo:\n",
    "    nomes = arquivo.readlines()\n",
    "    \n",
    "for nome in nomes:\n",
    "    dns = nome.strip('\\n') + '.' + dominio\n",
    "    try:\n",
    "        ip = socket.gethostbyname(dns)\n",
    "    except socket.gaierror:\n",
    "        ip = 'Não encontrado'\n",
    "        \n",
    "    print('{0}: {1}'.format(dns,ip))"
   ]
  },
  {
   "cell_type": "markdown",
   "metadata": {},
   "source": [
    "O script anterior foi alterado para ler nome dos hosts a partir de um arquivo text ao invés de uma lista, além disso, alterei o código para exibir a mensagem `Não encontrado` ao lado do nome do host, quando o script não for capaz de encontrar o endereço IP da máquina no DNS."
   ]
  },
  {
   "cell_type": "code",
   "execution_count": 19,
   "metadata": {},
   "outputs": [
    {
     "name": "stdout",
     "output_type": "stream",
     "text": [
      "ns1.dominio.com:\t65.254.244.180\n",
      "ns2.dominio.com:\t65.254.244.180\n",
      "www.dominio.com:\t65.254.244.176\n",
      "ftp.dominio.com:\t65.254.238.128\n",
      "intranet.dominio.com:\t65.254.244.180\n",
      "xpto.dominio.com:\t65.254.244.180\n",
      "Mapeamento completo\n"
     ]
    }
   ],
   "source": [
    "from queue import Queue\n",
    "import threading\n",
    "import socket\n",
    "\n",
    "dominio = 'dominio.com'\n",
    "lock = threading.Lock()\n",
    "\n",
    "def forca_bruta():\n",
    "    dns = q.get() + '.' + dominio\n",
    "    try:\n",
    "        ip = socket.gethostbyname(dns)\n",
    "        lock.acquire()\n",
    "        print('{}:\\t{}'.format(dns,ip))\n",
    "    except socket.gaierror:\n",
    "        pass\n",
    "    else:\n",
    "        lock.release()\n",
    "    q.task_done()\n",
    "    \n",
    "q = Queue()\n",
    "for i in range(20):\n",
    "    t = threading.Thread(target = forca_bruta)\n",
    "    t.daemon = True\n",
    "    t.start()\n",
    "with open('d:/Users/afukaya/OneDrive/Repos/Github/Books/Python para Pentest/Brute-Force.txt') as lista:\n",
    "    while True:\n",
    "        nome = lista.readline().strip('\\n')\n",
    "        if not nome :\n",
    "            break\n",
    "        q.put(nome)\n",
    "    q.join()\n",
    "    print('Mapeamento completo')"
   ]
  },
  {
   "cell_type": "markdown",
   "metadata": {},
   "source": [
    "O script anterior foi modificado para permitir o uso de mutiplas threads na coleta de infomações dos hosts no DNS, acelerando o processo de coleta quanto temos um grande volume de hosts para consultar.\n",
    "Ele usa os recursos da biblioteca `Queue` para criar uma fila onde os nomes dos hosts serão armazenados e da biblioteca `threading` que permite que a função `forca_bruta()` seja executada em threads paralelas.\n",
    "\n",
    "> O script é bem interessante, mas o código está confuso. Acredito que ele merece uma repaginada, pois essa estrutura pode ser utilizada em outras atividades que demandam grande volume de processamento como port scanning e network sweep."
   ]
  },
  {
   "cell_type": "code",
   "execution_count": 1,
   "metadata": {},
   "outputs": [
    {
     "name": "stdout",
     "output_type": "stream",
     "text": [
      "('65-254-244-180.yourhostingaccount.com', [], ['65.254.244.180'])\n"
     ]
    }
   ],
   "source": [
    "import socket\n",
    "ip = \"65.254.244.180\"\n",
    "hostmanes = socket.gethostbyaddr(ip)\n",
    "print(hostmanes)"
   ]
  },
  {
   "cell_type": "markdown",
   "metadata": {},
   "source": [
    "O script acima retorna informações de um host a partir de seu endereço IP. A função `gethostbyadd()` retorna uma tripla contendo o hostname, uma lista de alias e uma lista de IPs para o host informado. Assim como o `gethostbyname()` a função `gethostbyadd()` não funciona com o IPv6."
   ]
  },
  {
   "cell_type": "code",
   "execution_count": 3,
   "metadata": {},
   "outputs": [
    {
     "name": "stdout",
     "output_type": "stream",
     "text": [
      "dominio.com. 3600 IN A 65.254.244.176\n",
      "dominio.com. 3600 IN MX 30 mx.dominio.com.\n",
      "dominio.com. 3600 IN NS ns1.accountsupport.com.\n",
      "dominio.com. 3600 IN NS ns2.accountsupport.com.\n"
     ]
    }
   ],
   "source": [
    "import dns.resolver\n",
    "dominio = 'dominio.com'\n",
    "registros = ['A','AAAA','MX','NS']\n",
    "for registro in registros:\n",
    "    resposta = dns.resolver.query(dominio,registro,raise_on_no_answer=False)\n",
    "    if resposta.rrset is not None:\n",
    "        print(resposta.rrset)"
   ]
  },
  {
   "cell_type": "markdown",
   "metadata": {},
   "source": [
    "O script acima retorna informações sobre os servidores associados aos registros de DNS definidos em `registros` ele usa as funcionalidades da biblioteca `dsnpython` para pesquisar o DNS por informações.\n",
    "\n",
    "> A biblioteca `dsnpython` não é padrão no python3 e precisa ser instalada para que o script funcione."
   ]
  },
  {
   "cell_type": "markdown",
   "metadata": {},
   "source": [
    "## 2.1.2 Transferência de zona"
   ]
  },
  {
   "cell_type": "code",
   "execution_count": 6,
   "metadata": {},
   "outputs": [
    {
     "name": "stdout",
     "output_type": "stream",
     "text": [
      "Erro na transferência.\n",
      "Erro na transferência.\n"
     ]
    }
   ],
   "source": [
    "import dns.query\n",
    "import dns.zone\n",
    "import dns.resolver\n",
    "\n",
    "dominio = 'dominio.com'\n",
    "registroNS = dns.resolver.query(dominio,'NS')\n",
    "lista = []\n",
    "for registro in registroNS:\n",
    "    lista.append(str(registros))\n",
    "\n",
    "for registro in lista:\n",
    "    try:\n",
    "        transferenciaZona = dns.zone.from_xfr(dns.query.xfr(registro,dominio))\n",
    "    except:\n",
    "        print('Erro na transferência.')\n",
    "    else:\n",
    "        registroDNS = transferenciaZona.nodes.keys()\n",
    "        registroDNS.sort()\n",
    "        for n in registroDNS:\n",
    "            print(transferenciaZona[n].to_text(n))"
   ]
  },
  {
   "cell_type": "markdown",
   "metadata": {},
   "source": [
    "O script anterior tenta realiza a transferência da zona de DNS de um domínio determinado. Ela lista todos os servidores de DNS do domínio e depois tenta fazer a transferência a partir desses servidores.\n",
    "\n",
    "> Apesar de confuso para mim, por causa dos nomes das variáveis, o script é interessante para testar se os servidores de DNS do domínio são vulneráveis ao XFER.\n",
    "\n",
    "Todo: Instalar uma VM com um servidor de DNS que permita o XFER para testar o script."
   ]
  },
  {
   "cell_type": "markdown",
   "metadata": {},
   "source": [
    "## 2.1.3 Whois\n",
    "O script a seguir depende da biblioteca `python-whois` que deve ser instalada.\n",
    "\n",
    "> A biblioteca `python-whois` não existe no repositório do anaconda e precisa ser instalada a partir do PIP - `pip install python-whois`"
   ]
  },
  {
   "cell_type": "code",
   "execution_count": 9,
   "metadata": {},
   "outputs": [
    {
     "name": "stdout",
     "output_type": "stream",
     "text": [
      "None\n",
      "   Domain Name: DOMINIO.COM\n",
      "   Registry Domain ID: 433178_DOMAIN_COM-VRSN\n",
      "   Registrar WHOIS Server: whois.domain.com\n",
      "   Registrar URL: http://www.domain.com\n",
      "   Updated Date: 2019-07-23T03:47:23Z\n",
      "   Creation Date: 1997-08-22T04:00:00Z\n",
      "   Registry Expiry Date: 2020-08-21T04:00:00Z\n",
      "   Registrar: Domain.com, LLC\n",
      "   Registrar IANA ID: 886\n",
      "   Registrar Abuse Contact Email: compliance@domain-inc.net\n",
      "   Registrar Abuse Contact Phone: 602-226-2389\n",
      "   Domain Status: clientDeleteProhibited https://icann.org/epp#clientDeleteProhibited\n",
      "   Domain Status: clientTransferProhibited https://icann.org/epp#clientTransferProhibited\n",
      "   Domain Status: clientUpdateProhibited https://icann.org/epp#clientUpdateProhibited\n",
      "   Name Server: NS1.ACCOUNTSUPPORT.COM\n",
      "   Name Server: NS2.ACCOUNTSUPPORT.COM\n",
      "   DNSSEC: unsigned\n",
      "   URL of the ICANN Whois Inaccuracy Complaint Form: https://www.icann.org/wicf/\n",
      ">>> Last update of whois database: 2020-01-10T15:38:19Z <<<\n",
      "\n",
      "For more information on Whois status codes, please visit https://icann.org/epp\n",
      "\n",
      "NOTICE: The expiration date displayed in this record is the date the\n",
      "registrar's sponsorship of the domain name registration in the registry is\n",
      "currently set to expire. This date does not necessarily reflect the expiration\n",
      "date of the domain name registrant's agreement with the sponsoring\n",
      "registrar.  Users may consult the sponsoring registrar's Whois database to\n",
      "view the registrar's reported date of expiration for this registration.\n",
      "\n",
      "TERMS OF USE: You are not authorized to access or query our Whois\n",
      "database through the use of electronic processes that are high-volume and\n",
      "automated except as reasonably necessary to register domain names or\n",
      "modify existing registrations; the Data in VeriSign Global Registry\n",
      "Services' (\"VeriSign\") Whois database is provided by VeriSign for\n",
      "information purposes only, and to assist persons in obtaining information\n",
      "about or related to a domain name registration record. VeriSign does not\n",
      "guarantee its accuracy. By submitting a Whois query, you agree to abide\n",
      "by the following terms of use: You agree that you may use this Data only\n",
      "for lawful purposes and that under no circumstances will you use this Data\n",
      "to: (1) allow, enable, or otherwise support the transmission of mass\n",
      "unsolicited, commercial advertising or solicitations via e-mail, telephone,\n",
      "or facsimile; or (2) enable high volume, automated, electronic processes\n",
      "that apply to VeriSign (or its computer systems). The compilation,\n",
      "repackaging, dissemination or other use of this Data is expressly\n",
      "prohibited without the prior written consent of VeriSign. You agree not to\n",
      "use electronic processes that are automated and high-volume to access or\n",
      "query the Whois database except as reasonably necessary to register\n",
      "domain names or modify existing registrations. VeriSign reserves the right\n",
      "to restrict your access to the Whois database in its sole discretion to ensure\n",
      "operational stability.  VeriSign may restrict or terminate your access to the\n",
      "Whois database for failure to abide by these terms of use. VeriSign\n",
      "reserves the right to modify these terms at any time.\n",
      "\n",
      "The Registry database contains ONLY .COM, .NET, .EDU domains and\n",
      "Registrars.\n",
      "Domain Name: DOMINIO.COM\n",
      "Registry Domain ID: 433178_DOMAIN_COM-VRSN\n",
      "Registrar WHOIS Server: whois.domain.com\n",
      "Registrar URL: www.domain.com\n",
      "Updated Date: 2019-07-23T03:47:23\n",
      "Creation Date: 1997-08-22T04:00:00\n",
      "Registrar Registration Expiration Date: 2020-08-21T04:00:00\n",
      "Registrar: Domain.com, LLC\n",
      "Registrar IANA ID: 886\n",
      "Reseller: Domain Name Holding Company, Inc\n",
      "Domain Status: clientDeleteProhibited https://icann.org/epp#clientDeleteProhibited\n",
      "Domain Status: clientTransferProhibited https://icann.org/epp#clientTransferProhibited\n",
      "Domain Status: clientUpdateProhibited https://icann.org/epp#clientUpdateProhibited\n",
      "Registry Registrant ID: \n",
      "Registrant Name: Domain Admin\n",
      "Registrant Organization: Endurance International Group - West, Inc.\n",
      "Registrant Street: 10 Corporate Drive, Suite 300 \n",
      "Registrant City: Burlington\n",
      "Registrant State/Province: MA\n",
      "Registrant Postal Code: 01803\n",
      "Registrant Country: US\n",
      "Registrant Phone: +1.3604495900\n",
      "Registrant Phone Ext: \n",
      "Registrant Fax: \n",
      "Registrant Fax Ext: \n",
      "Registrant Email: corpdomains@endurance.com\n",
      "Registry Admin ID: \n",
      "Admin Name: REDACTED FOR PRIVACY\n",
      "Admin Organization: REDACTED FOR PRIVACY\n",
      "Admin Street: REDACTED FOR PRIVACY \n",
      "Admin City: REDACTED FOR PRIVACY\n",
      "Admin State/Province: REDACTED FOR PRIVACY\n",
      "Admin Postal Code: REDACTED FOR PRIVACY\n",
      "Admin Country: REDACTED FOR PRIVACY\n",
      "Admin Phone: REDACTED FOR PRIVACY\n",
      "Admin Phone Ext: \n",
      "Admin Fax: REDACTED FOR PRIVACY\n",
      "Admin Fax Ext: \n",
      "Admin Email: REDACTED FOR PRIVACY\n",
      "Registry Tech ID: \n",
      "Tech Name: REDACTED FOR PRIVACY\n",
      "Tech Organization: REDACTED FOR PRIVACY\n",
      "Tech Street: REDACTED FOR PRIVACY \n",
      "Tech City: REDACTED FOR PRIVACY\n",
      "Tech State/Province: REDACTED FOR PRIVACY\n",
      "Tech Postal Code: REDACTED FOR PRIVACY\n",
      "Tech Country: REDACTED FOR PRIVACY\n",
      "Tech Phone: REDACTED FOR PRIVACY\n",
      "Tech Phone Ext: \n",
      "Tech Fax: REDACTED FOR PRIVACY\n",
      "Tech Fax Ext: \n",
      "Tech Email: REDACTED FOR PRIVACY\n",
      "Name Server: ns1.accountsupport.com\n",
      "Name Server: ns2.accountsupport.com\n",
      "DNSSEC: unsigned\n",
      "Registrar Abuse Contact Email: compliance@domain-inc.net\n",
      "Registrar Abuse Contact Phone: +1.6027165396\n",
      "URL of the ICANN WHOIS Data Problem Reporting System: http://wdprs.internic.net/\n",
      ">>> Last update of WHOIS database: 2019-07-23T03:47:23 <<<\n",
      "\n",
      "\"For more information on Whois status codes, please visit https://icann.org/epp\"\n",
      "\n",
      "Registration Service Provider:\n",
      "    Domain Name Holding Company, Inc, corpdomains@endurance.com\n",
      "    +1.8007972958\n",
      "    This company may be contacted for domain login/passwords,\n",
      "    DNS/Nameserver changes, and general domain support questions.\n",
      "\n",
      "\n"
     ]
    }
   ],
   "source": [
    "import whois\n",
    "dominio = 'dominio.com'\n",
    "consultaWhois = whois.whois(dominio)\n",
    "print(consultaWhois.email)\n",
    "print(consultaWhois[\"email\"])\n",
    "print(consultaWhois.text)"
   ]
  },
  {
   "cell_type": "markdown",
   "metadata": {},
   "source": [
    "O script recupera as informações de registro do domínio especificado.\n",
    "\n",
    "> O comando `print(consultaWhois[\"email\"])` dá erro caso o campo especificado não exista."
   ]
  },
  {
   "cell_type": "markdown",
   "metadata": {},
   "source": [
    "## 2.1.4 Enumeração de usuários via SMTP\n"
   ]
  },
  {
   "cell_type": "code",
   "execution_count": null,
   "metadata": {},
   "outputs": [],
   "source": [
    "import socket\n",
    "\n",
    "usuarios = ['daniel','teste','root']\n",
    "ip = '127.0.0.1'\n",
    "\n",
    "for usuario in usuarios:\n",
    "    s = socket.socket(socket.AF_INET,socket.SOCK_STREAM)\n",
    "    s.connect(ip,25)\n",
    "    banner = s.recv(1024)\n",
    "    print(banner)\n",
    "    s.send('VRFY'+ usuario + '\\n')\n",
    "    resposta = s.recv(1024)\n",
    "    s.close()\n",
    "    if '252' in resposta:\n",
    "        print(usuarios + ' encontrado')\n",
    "    elif '550' in resposta:\n",
    "        print(usuarios + ' não encontrado')\n",
    "    elif '503' in resposta:\n",
    "        print('Autenticação requerida')\n",
    "        break\n",
    "    elif '500' in resposta:\n",
    "        print('Comando não suportado')\n",
    "        break\n",
    "    else:\n",
    "        print(reposta)"
   ]
  },
  {
   "cell_type": "markdown",
   "metadata": {},
   "source": [
    "O script acima estabelece uma conexão direta via socket com o servidor SMTP e envia o comando `VRFY` que testa se um usuário existe na base de usuários ou não, testando os códigos de resposta do servidor para determinar o resultado da operação.\n",
    "\n",
    "> A lista com a descrição dos diversos códigos de erro pode ser encontrada em https://en.wikipedia.org/wiki/List_of_SMTP_server_return_codes\n",
    "\n",
    "Todo: Instalar um servidor SMTP para testar o script."
   ]
  },
  {
   "cell_type": "markdown",
   "metadata": {},
   "source": [
    "## 2.1.5 Scapy\n",
    "\n",
    "Scapy é uma biblioteca que permite a manipulação de pacotes de rede. Ela pode ser utlizada de maneira iterativa, executando o comando scapy no prompt ou em um script, importando o módulo scapy.\n",
    "\n",
    "> Ver o que faz os comandos \n",
    "    - conf\n",
    "    - sr\n"
   ]
  },
  {
   "cell_type": "markdown",
   "metadata": {},
   "source": [
    "### 2.1.5.1 Port Scanner"
   ]
  },
  {
   "cell_type": "code",
   "execution_count": 8,
   "metadata": {},
   "outputs": [
    {
     "name": "stdout",
     "output_type": "stream",
     "text": [
      "Porta \t Estado\n",
      "21 \t RA\n",
      "80 \t SA\n",
      "8080 \t RA\n"
     ]
    }
   ],
   "source": [
    "from scapy.all import *\n",
    "\n",
    "conf.verb = 0\n",
    "portas = [21,22,23,80,8080]\n",
    "pacoteIP = IP(dst='192.168.0.1')\n",
    "pacoteTCP = TCP(dport=portas,flags='S')\n",
    "pacote = pacoteIP/pacoteTCP\n",
    "ans, uans = sr(pacote, inter=0.1, timeout=1)\n",
    "print('Porta \\t Estado')\n",
    "for pacoteRecebido in ans:\n",
    "    print('{} \\t {}'.format(pacoteRecebido[1][IP].sport,pacoteRecebido[1][TCP].sprintf('%flags%')))"
   ]
  },
  {
   "cell_type": "markdown",
   "metadata": {},
   "source": [
    "O script anterior tenta se conectar ao IP especificado em `pacoteIP` e testa se as portas especificadas em `portas` e retorna se elas estão abertas `SA` ou fechadas `RA` através do envio de um pacote TCP com a flag `SYN` ativada.`\n",
    "\n",
    "> Tem outro script mais pra frente que faz a mesma coisa só que com sockets."
   ]
  },
  {
   "cell_type": "markdown",
   "metadata": {},
   "source": [
    "### 2.5.1.2 Ping sweep"
   ]
  },
  {
   "cell_type": "code",
   "execution_count": 1,
   "metadata": {},
   "outputs": [
    {
     "name": "stdout",
     "output_type": "stream",
     "text": [
      "Hosts Ativos\n",
      "Hosts Inativos\n",
      "192.168.0.0\n",
      "192.168.0.1\n",
      "192.168.0.2\n",
      "192.168.0.3\n",
      "192.168.0.4\n",
      "192.168.0.5\n",
      "192.168.0.6\n",
      "192.168.0.7\n",
      "192.168.0.8\n",
      "192.168.0.9\n",
      "192.168.0.10\n",
      "192.168.0.11\n",
      "192.168.0.12\n",
      "192.168.0.13\n",
      "192.168.0.14\n",
      "192.168.0.15\n",
      "192.168.0.16\n",
      "192.168.0.17\n",
      "192.168.0.18\n",
      "192.168.0.19\n",
      "192.168.0.20\n",
      "192.168.0.21\n",
      "192.168.0.22\n",
      "192.168.0.23\n",
      "192.168.0.24\n",
      "192.168.0.25\n",
      "192.168.0.26\n",
      "192.168.0.27\n",
      "192.168.0.28\n",
      "192.168.0.29\n",
      "192.168.0.30\n",
      "192.168.0.31\n",
      "192.168.0.32\n",
      "192.168.0.33\n",
      "192.168.0.34\n",
      "192.168.0.35\n",
      "192.168.0.36\n",
      "192.168.0.37\n",
      "192.168.0.38\n",
      "192.168.0.39\n",
      "192.168.0.40\n",
      "192.168.0.41\n",
      "192.168.0.42\n",
      "192.168.0.43\n",
      "192.168.0.44\n",
      "192.168.0.45\n",
      "192.168.0.46\n",
      "192.168.0.47\n",
      "192.168.0.48\n",
      "192.168.0.49\n",
      "192.168.0.50\n",
      "192.168.0.51\n",
      "192.168.0.52\n",
      "192.168.0.53\n",
      "192.168.0.54\n",
      "192.168.0.55\n",
      "192.168.0.56\n",
      "192.168.0.57\n",
      "192.168.0.58\n",
      "192.168.0.59\n",
      "192.168.0.60\n",
      "192.168.0.61\n",
      "192.168.0.62\n",
      "192.168.0.63\n",
      "192.168.0.64\n",
      "192.168.0.65\n",
      "192.168.0.66\n",
      "192.168.0.67\n",
      "192.168.0.68\n",
      "192.168.0.69\n",
      "192.168.0.70\n",
      "192.168.0.71\n",
      "192.168.0.72\n",
      "192.168.0.73\n",
      "192.168.0.74\n",
      "192.168.0.75\n",
      "192.168.0.76\n",
      "192.168.0.77\n",
      "192.168.0.78\n",
      "192.168.0.79\n",
      "192.168.0.80\n",
      "192.168.0.81\n",
      "192.168.0.82\n",
      "192.168.0.83\n",
      "192.168.0.84\n",
      "192.168.0.85\n",
      "192.168.0.86\n",
      "192.168.0.87\n",
      "192.168.0.88\n",
      "192.168.0.89\n",
      "192.168.0.90\n",
      "192.168.0.91\n",
      "192.168.0.92\n",
      "192.168.0.93\n",
      "192.168.0.94\n",
      "192.168.0.95\n",
      "192.168.0.96\n",
      "192.168.0.97\n",
      "192.168.0.98\n",
      "192.168.0.99\n",
      "192.168.0.100\n",
      "192.168.0.101\n",
      "192.168.0.102\n",
      "192.168.0.103\n",
      "192.168.0.104\n",
      "192.168.0.105\n",
      "192.168.0.106\n",
      "192.168.0.107\n",
      "192.168.0.108\n",
      "192.168.0.109\n",
      "192.168.0.110\n",
      "192.168.0.111\n",
      "192.168.0.112\n",
      "192.168.0.113\n",
      "192.168.0.114\n",
      "192.168.0.115\n",
      "192.168.0.116\n",
      "192.168.0.117\n",
      "192.168.0.118\n",
      "192.168.0.119\n",
      "192.168.0.120\n",
      "192.168.0.121\n",
      "192.168.0.122\n",
      "192.168.0.123\n",
      "192.168.0.124\n",
      "192.168.0.125\n",
      "192.168.0.126\n",
      "192.168.0.127\n",
      "192.168.0.128\n",
      "192.168.0.129\n",
      "192.168.0.130\n",
      "192.168.0.131\n",
      "192.168.0.132\n",
      "192.168.0.133\n",
      "192.168.0.134\n",
      "192.168.0.135\n",
      "192.168.0.136\n",
      "192.168.0.137\n",
      "192.168.0.138\n",
      "192.168.0.139\n",
      "192.168.0.140\n",
      "192.168.0.141\n",
      "192.168.0.142\n",
      "192.168.0.143\n",
      "192.168.0.144\n",
      "192.168.0.145\n",
      "192.168.0.146\n",
      "192.168.0.147\n",
      "192.168.0.148\n",
      "192.168.0.149\n",
      "192.168.0.150\n",
      "192.168.0.151\n",
      "192.168.0.152\n",
      "192.168.0.153\n",
      "192.168.0.154\n",
      "192.168.0.155\n",
      "192.168.0.156\n",
      "192.168.0.157\n",
      "192.168.0.158\n",
      "192.168.0.159\n",
      "192.168.0.160\n",
      "192.168.0.161\n",
      "192.168.0.162\n",
      "192.168.0.163\n",
      "192.168.0.164\n",
      "192.168.0.165\n",
      "192.168.0.166\n",
      "192.168.0.167\n",
      "192.168.0.168\n",
      "192.168.0.169\n",
      "192.168.0.170\n",
      "192.168.0.171\n",
      "192.168.0.172\n",
      "192.168.0.173\n",
      "192.168.0.174\n",
      "192.168.0.175\n",
      "192.168.0.176\n",
      "192.168.0.177\n",
      "192.168.0.178\n",
      "192.168.0.179\n",
      "192.168.0.180\n",
      "192.168.0.181\n",
      "192.168.0.182\n",
      "192.168.0.183\n",
      "192.168.0.184\n",
      "192.168.0.185\n",
      "192.168.0.186\n",
      "192.168.0.187\n",
      "192.168.0.188\n",
      "192.168.0.189\n",
      "192.168.0.190\n",
      "192.168.0.191\n",
      "192.168.0.192\n",
      "192.168.0.193\n",
      "192.168.0.194\n",
      "192.168.0.195\n",
      "192.168.0.196\n",
      "192.168.0.197\n",
      "192.168.0.198\n",
      "192.168.0.199\n",
      "192.168.0.200\n",
      "192.168.0.201\n",
      "192.168.0.202\n",
      "192.168.0.203\n",
      "192.168.0.204\n",
      "192.168.0.205\n",
      "192.168.0.206\n",
      "192.168.0.207\n",
      "192.168.0.208\n",
      "192.168.0.209\n",
      "192.168.0.210\n",
      "192.168.0.211\n",
      "192.168.0.212\n",
      "192.168.0.213\n",
      "192.168.0.214\n",
      "192.168.0.215\n",
      "192.168.0.216\n",
      "192.168.0.217\n",
      "192.168.0.218\n",
      "192.168.0.219\n",
      "192.168.0.220\n",
      "192.168.0.221\n",
      "192.168.0.222\n",
      "192.168.0.223\n",
      "192.168.0.224\n",
      "192.168.0.225\n",
      "192.168.0.226\n",
      "192.168.0.227\n",
      "192.168.0.228\n",
      "192.168.0.229\n",
      "192.168.0.230\n",
      "192.168.0.231\n",
      "192.168.0.232\n",
      "192.168.0.233\n",
      "192.168.0.234\n",
      "192.168.0.235\n",
      "192.168.0.236\n",
      "192.168.0.237\n",
      "192.168.0.238\n",
      "192.168.0.239\n",
      "192.168.0.240\n",
      "192.168.0.241\n",
      "192.168.0.242\n",
      "192.168.0.243\n",
      "192.168.0.244\n",
      "192.168.0.245\n",
      "192.168.0.246\n",
      "192.168.0.247\n",
      "192.168.0.248\n",
      "192.168.0.249\n",
      "192.168.0.250\n",
      "192.168.0.251\n",
      "192.168.0.252\n",
      "192.168.0.253\n",
      "192.168.0.254\n"
     ]
    }
   ],
   "source": [
    "from scapy.all import *\n",
    "conf.verb = 0\n",
    "IPs = []\n",
    "for ip in range(0,255):\n",
    "    IPs.append('192.168.0.' + str(ip))\n",
    "pacote = IP(dst=IPs)/ICMP()\n",
    "ans,uans = sr(pacote,inter=0.1,timeout=1)\n",
    "print('Hosts Ativos')\n",
    "for pacoteRecebido in ans:\n",
    "    print(pacoteRecebido[1][IP].src)\n",
    "print('Hosts Inativos')\n",
    "for pacoteNaoRecebido in uans:\n",
    "    print(pacoteNaoRecebido.dst)\n",
    "    "
   ]
  },
  {
   "cell_type": "markdown",
   "metadata": {},
   "source": [
    "O script envia uma série de pacotes ICPM - echo request para uma faixa de endereços IP especificada em IPs. Exibindo uma mensagem para todos os hosts que responderam ao request."
   ]
  },
  {
   "cell_type": "markdown",
   "metadata": {},
   "source": [
    "### 2.5.1.3 ARP Scanner"
   ]
  },
  {
   "cell_type": "code",
   "execution_count": 3,
   "metadata": {},
   "outputs": [
    {
     "name": "stdout",
     "output_type": "stream",
     "text": [
      "IP \t\t MAC\n"
     ]
    }
   ],
   "source": [
    "from scapy.all import *\n",
    "conf.verb = 0\n",
    "\n",
    "IPs = []\n",
    "for ip in range(0,255):\n",
    "    IPs.append('192.168.0.' + str(ip))\n",
    "pacoteARP = Ether()/ARP(pdst=IPs,hwdst='ff:ff:ff:ff:ff:ff')\n",
    "ans,uans = srp(pacoteARP,inter=0.1,timeout=1)\n",
    "print('IP \\t\\t MAC')\n",
    "for pacoteRecebido in ans:\n",
    "    print('{} \\t\\t {}'.format(pacoteRecebido[1].psrc,pacoteRecebido[1].hwscrc))"
   ]
  },
  {
   "cell_type": "markdown",
   "metadata": {},
   "source": [
    "### 2.5.1.4 HPing"
   ]
  },
  {
   "cell_type": "code",
   "execution_count": null,
   "metadata": {},
   "outputs": [],
   "source": [
    "from scapy.all import *\n",
    "conf.verb = 0\n",
    "pacoteIP = IP(dst='192.168.0.1')\n",
    "\n",
    "# ICMP\n",
    "ICMPechoRequest = pacoteIP/ICMP()\n",
    "ICMPechoReply = pacoteIP/ICMP(type=0,code=0)\n",
    "ICMPtimeStampRequest = pacoteIP/ICMP(type=13,code=0)\n",
    "ICMPpayload = pacoteIP/ICMP()/'Payload'\n",
    "\n",
    "# Pacote TCP com SYN flag\n",
    "pacoteTCP = pacoteIP/TCP(flags='S')\n",
    "\n",
    "# Pacote TCP com SYN flag, na porta de origem '666' e payload\n",
    "pacoteTCP1 = pacoteIP/TCP(sport=666)/'Payload'\n",
    "\n",
    "# Pacote TCP com SYN flag, para a porta 80\n",
    "pacoteTCP2 = pacoteIP/TCP(dport=80)\n",
    "\n",
    "# Pacote TCP com SYN flag, para as portas 23 e 80\n",
    "pacoteTCP3 = pacoteIP/TCP(dport=[23,80])\n",
    "\n",
    "# Pacote TCP com SYN flag, para porta 80 dos IPs 192.168.0.1  e 192.168.0.2\n",
    "pacoteTCP4 = IP(dst=['192.168.0.1','192.168.0.2'])/TCP(dport=80)\n",
    "\n",
    "# Pacote TCP com ACK flag\n",
    "pacoteTCP5 = pacoteIP/TCP(flags='A')\n",
    "\n",
    "# Pacote TCP com SYN/ACK flag\n",
    "pacoteTCP6 = pacoteIP/TCP(flags='SA')\n",
    "\n",
    "# Pacote IP com IP spofado\n",
    "pacoteTCP7 = IP(src='1.2.3.4')/TCP()\n",
    "\n",
    "# Pacote UDP para porta 53\n",
    "pacoteUDP = pacoteIP/UDP(dport=53)\n",
    "\n",
    "# Pacote UDP com destino 53 e origem 666\n",
    "pacoteUDP1 = pacoteIP/UDP(dport=53,sport=666)"
   ]
  },
  {
   "cell_type": "markdown",
   "metadata": {},
   "source": [
    "### 2.1.5.5 Determinando regras de firewall"
   ]
  },
  {
   "cell_type": "code",
   "execution_count": 19,
   "metadata": {},
   "outputs": [
    {
     "name": "stdout",
     "output_type": "stream",
     "text": [
      "Porta \t Estado\n",
      "80 \t SA\n",
      "666 \t RA\n",
      "22 \t DROP\n",
      "12345 \t DROP\n"
     ]
    }
   ],
   "source": [
    "from scapy.all import *\n",
    "conf.verb = 0\n",
    "host = '192.168.0.1'\n",
    "portas = [22,80,666,12345]\n",
    "pacote = IP(dst=host)/TCP(dport=portas,flags='S')\n",
    "ans,uans = sr(pacote,inter=0.1,timeout=1)\n",
    "\n",
    "print('Porta \\t Estado')\n",
    "\n",
    "for pacoteRecebido in ans:\n",
    "    if pacoteRecebido[1].haslayer('ICMP'):\n",
    "        if pacoteRecebido[1]['ICMP'].type == 3 and pacoteRecebido[1]['ICMP'].code == 3:\n",
    "            print('{} \\t Rejected'.format(pacoteRecebido[0][TCP].dport))\n",
    "    elif pacoteRecebido[1].haslayer('TCP'):\n",
    "        print('{} \\t {}'.format(pacoteRecebido[1][TCP].sport,pacoteRecebido[1][TCP].sprintf('%flags%')))\n",
    "\n",
    "for pacoteNaoRecebido in uans:\n",
    "    print('{} \\t DROP'.format(pacoteNaoRecebido.dport))"
   ]
  },
  {
   "cell_type": "markdown",
   "metadata": {},
   "source": [
    "## 2.1.6 Coleta de banner"
   ]
  },
  {
   "cell_type": "code",
   "execution_count": 14,
   "metadata": {},
   "outputs": [
    {
     "name": "stdout",
     "output_type": "stream",
     "text": [
      "b''\n"
     ]
    }
   ],
   "source": [
    "import socket\n",
    "s = socket.socket(socket.AF_INET,socket.SOCK_STREAM)\n",
    "s.connect(('192.168.0.1',80))\n",
    "print(s.recv(2048))\n",
    "s.close()"
   ]
  },
  {
   "cell_type": "markdown",
   "metadata": {},
   "source": [
    "## 2.1.7 Port Scanner"
   ]
  },
  {
   "cell_type": "code",
   "execution_count": 22,
   "metadata": {},
   "outputs": [
    {
     "name": "stdout",
     "output_type": "stream",
     "text": [
      "Portas Abertas\n",
      "80\n"
     ]
    }
   ],
   "source": [
    "import socket\n",
    "\n",
    "host = '192.168.0.1'\n",
    "portas = [21,22,23,80]\n",
    "print('Portas Abertas')\n",
    "for porta in portas:\n",
    "    s = socket.socket(socket.AF_INET,socket.SOCK_STREAM)\n",
    "    codigoRetorno = s.connect_ex((host,porta))\n",
    "    s.close()\n",
    "    if codigoRetorno == 0 :\n",
    "        print(porta)"
   ]
  },
  {
   "cell_type": "markdown",
   "metadata": {},
   "source": [
    "## 2.1.8 Integrando Python com Nmap"
   ]
  },
  {
   "cell_type": "code",
   "execution_count": 23,
   "metadata": {},
   "outputs": [
    {
     "name": "stdout",
     "output_type": "stream",
     "text": [
      "Valores de scanNmap['192.168.0.1']\n",
      "{'hostnames': [{'name': '', 'type': ''}], 'addresses': {'ipv4': '192.168.0.1', 'mac': '48:00:33:05:B5:A0'}, 'vendor': {'48:00:33:05:B5:A0': 'Technicolor CH USA'}, 'status': {'state': 'up', 'reason': 'arp-response'}, 'tcp': {22: {'state': 'filtered', 'reason': 'no-response', 'name': 'ssh', 'product': '', 'version': '', 'extrainfo': '', 'conf': '3', 'cpe': ''}, 80: {'state': 'open', 'reason': 'syn-ack', 'name': 'http', 'product': 'micro_httpd', 'version': '', 'extrainfo': '', 'conf': '10', 'cpe': 'cpe:/a:acme:micro_httpd'}}}\n",
      "----------------------------------------\n",
      "Chaves do dicionário scanNmap['192.168.0.1']\n",
      "hostnames\n",
      "addresses\n",
      "vendor\n",
      "status\n",
      "tcp\n",
      "----------------------------------------\n",
      "Valores de scanNmap['192.168.0.1]['status']\n",
      "{'state': 'up', 'reason': 'arp-response'}\n",
      "----------------------------------------\n",
      "Valor de scanNmap['192.168.0.1']['status']['state']\n",
      "up\n"
     ]
    }
   ],
   "source": [
    "import nmap\n",
    "scanNmap = nmap.PortScanner()\n",
    "scanNmap.scan(\"192.168.0.1\",\"22,80\")\n",
    "print(\"Valores de scanNmap['192.168.0.1']\")\n",
    "print(scanNmap[\"192.168.0.1\"])\n",
    "print(\"-\" * 40)\n",
    "\n",
    "print(\"Chaves do dicionário scanNmap['192.168.0.1']\")\n",
    "for valores in scanNmap['192.168.0.1']:\n",
    "    print(valores)\n",
    "print('-' * 40)\n",
    "\n",
    "print(\"Valores de scanNmap['192.168.0.1]['status']\")\n",
    "print(scanNmap['192.168.0.1']['status'])\n",
    "print('-' * 40)\n",
    "\n",
    "print(\"Valor de scanNmap['192.168.0.1']['status']['state']\")\n",
    "print(scanNmap['192.168.0.1']['status']['state'])"
   ]
  },
  {
   "cell_type": "code",
   "execution_count": 30,
   "metadata": {},
   "outputs": [
    {
     "name": "stdout",
     "output_type": "stream",
     "text": [
      "nmap -oX - -p 22,80 -v -sV 192.168.0.1\n",
      "Nmap scan report for host 192.168.0.1\n",
      "Host is up\n",
      "PORT \t STATE \t   SERVICE\n",
      "22/tcp \t filtered \t   ssh\n",
      "80/tcp \t open \t   http\n",
      "MAC Address: 48:00:33:05:B5:A0 (Technicolor CH USA)\n"
     ]
    }
   ],
   "source": [
    "import nmap\n",
    "scanNmap = nmap.PortScanner()\n",
    "scanNmap.scan('192.168.0.1','22,80','-v -sV')\n",
    "print(scanNmap.command_line())\n",
    "for host in scanNmap.all_hosts():\n",
    "    print('Nmap scan report for host {}'.format(host))\n",
    "    print('Host is {}'.format(scanNmap[host][\"status\"][\"state\"]))\n",
    "    for protocolo in scanNmap[host].all_protocols():\n",
    "        print(\"PORT\\tSTATE\\tSERVICE\")\n",
    "        for porta in scanNmap[host][protocolo]:\n",
    "            alvo = scanNmap[host][protocolo][porta]\n",
    "            print('{}/{}\\t{}\\t{}'.format(porta,protocolo,alvo[\"state\"],alvo['name']))\n",
    "    enderecoMAC = scanNmap[host][\"addresses\"][\"mac\"]\n",
    "    print('MAC Address: {} ({})'.format(enderecoMAC,scanNmap[host]['vendor'][enderecoMAC]))"
   ]
  },
  {
   "cell_type": "markdown",
   "metadata": {},
   "source": [
    "## 2.2 Exploração"
   ]
  },
  {
   "cell_type": "markdown",
   "metadata": {},
   "source": [
    "### 2.2.1 Automatizando a execução de exploits\n",
    "\n",
    "Através do uso da biblioteca `msfrpc` é possível acessar o Metasploit para automatizar o processo de exploração de vulnerabilidades. \n",
    "\n",
    "Para isso é necessário instalar a biblioteca no ambiente Python e configurar o metasploit para aceita os acesso remoto.\n",
    "\n",
    "Para configurar o metasploit use o comando `load msgrpc Pass=<senha>`"
   ]
  },
  {
   "cell_type": "code",
   "execution_count": null,
   "metadata": {},
   "outputs": [],
   "source": [
    "import time, msfrpc\n",
    "\n",
    "cliente"
   ]
  }
 ],
 "metadata": {
  "kernelspec": {
   "display_name": "Python 3.8.2 64-bit ('.venv': venv)",
   "language": "python",
   "name": "python_defaultSpec_1597343644132"
  },
  "language_info": {
   "codemirror_mode": {
    "name": "ipython",
    "version": 3
   },
   "file_extension": ".py",
   "mimetype": "text/x-python",
   "name": "python",
   "nbconvert_exporter": "python",
   "pygments_lexer": "ipython3",
   "version": "3.8.2-final"
  }
 },
 "nbformat": 4,
 "nbformat_minor": 4
}
